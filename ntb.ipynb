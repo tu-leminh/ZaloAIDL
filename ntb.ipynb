{
 "cells": [
  {
   "cell_type": "code",
   "execution_count": 12,
   "metadata": {},
   "outputs": [],
   "source": [
    "from scipy.io import wavfile\n",
    "import scipy.signal as sps\n",
    "import os\n",
    "import librosa\n",
    "import pandas as pd\n",
    "import numpy as np\n",
    "import json\n",
    "\n",
    "import tensorflow as tf\n",
    "\n",
    "gpu_devices = tf.config.experimental.list_physical_devices(\"GPU\")\n",
    "for device in gpu_devices:\n",
    "    tf.config.experimental.set_memory_growth(device, True)"
   ]
  },
  {
   "cell_type": "code",
   "execution_count": 13,
   "metadata": {},
   "outputs": [],
   "source": [
    "def resample(path,new_rate = 16000):\n",
    "    sampling_rate, data = wavfile.read(path)\n",
    "    samples = round(len(data) * float(new_rate) / sampling_rate)\n",
    "    new_data = sps.resample(data, samples)\n",
    "    return new_data"
   ]
  },
  {
   "cell_type": "code",
   "execution_count": 14,
   "metadata": {},
   "outputs": [],
   "source": [
    "def js_to_np(path,max_len=50):    \n",
    "    f = open(path)\n",
    "    data = json.load(f)\n",
    "    t=[[j['e'] for j in i['l']] for i in data]\n",
    "    t=[j for i in t for j in i]\n",
    "    if (len(t)>50): t=t[:50]\n",
    "    return np.pad(t,(0,50-len(t)))"
   ]
  },
  {
   "cell_type": "code",
   "execution_count": 15,
   "metadata": {},
   "outputs": [
    {
     "ename": "KeyboardInterrupt",
     "evalue": "",
     "output_type": "error",
     "traceback": [
      "\u001b[0;31m---------------------------------------------------------------------------\u001b[0m",
      "\u001b[0;31mKeyboardInterrupt\u001b[0m                         Traceback (most recent call last)",
      "\u001b[1;32m/home/mt/files/Zalo/ntb.ipynb Cell 4\u001b[0m in \u001b[0;36m<cell line: 9>\u001b[0;34m()\u001b[0m\n\u001b[1;32m      <a href='vscode-notebook-cell:/home/mt/files/Zalo/ntb.ipynb#W3sZmlsZQ%3D%3D?line=6'>7</a>\u001b[0m x\u001b[39m=\u001b[39m[]\n\u001b[1;32m      <a href='vscode-notebook-cell:/home/mt/files/Zalo/ntb.ipynb#W3sZmlsZQ%3D%3D?line=7'>8</a>\u001b[0m y\u001b[39m=\u001b[39m[]\n\u001b[0;32m----> <a href='vscode-notebook-cell:/home/mt/files/Zalo/ntb.ipynb#W3sZmlsZQ%3D%3D?line=8'>9</a>\u001b[0m \u001b[39mfor\u001b[39;00m i \u001b[39min\u001b[39;00m inp():\n\u001b[1;32m     <a href='vscode-notebook-cell:/home/mt/files/Zalo/ntb.ipynb#W3sZmlsZQ%3D%3D?line=9'>10</a>\u001b[0m     x\u001b[39m.\u001b[39mappend(i[\u001b[39m0\u001b[39m])\n\u001b[1;32m     <a href='vscode-notebook-cell:/home/mt/files/Zalo/ntb.ipynb#W3sZmlsZQ%3D%3D?line=10'>11</a>\u001b[0m     y\u001b[39m.\u001b[39mappend(i[\u001b[39m1\u001b[39m])\n",
      "\u001b[1;32m/home/mt/files/Zalo/ntb.ipynb Cell 4\u001b[0m in \u001b[0;36minp\u001b[0;34m()\u001b[0m\n\u001b[1;32m      <a href='vscode-notebook-cell:/home/mt/files/Zalo/ntb.ipynb#W3sZmlsZQ%3D%3D?line=2'>3</a>\u001b[0m \u001b[39mfor\u001b[39;00m i \u001b[39min\u001b[39;00m ds:\n\u001b[1;32m      <a href='vscode-notebook-cell:/home/mt/files/Zalo/ntb.ipynb#W3sZmlsZQ%3D%3D?line=3'>4</a>\u001b[0m     label\u001b[39m=\u001b[39mi\u001b[39m.\u001b[39mreplace(\u001b[39m\"\u001b[39m\u001b[39msongs\u001b[39m\u001b[39m\"\u001b[39m,\u001b[39m\"\u001b[39m\u001b[39mlabels\u001b[39m\u001b[39m\"\u001b[39m)\u001b[39m.\u001b[39mreplace(\u001b[39m\"\u001b[39m\u001b[39mwav\u001b[39m\u001b[39m\"\u001b[39m,\u001b[39m\"\u001b[39m\u001b[39mjson\u001b[39m\u001b[39m\"\u001b[39m)\n\u001b[0;32m----> <a href='vscode-notebook-cell:/home/mt/files/Zalo/ntb.ipynb#W3sZmlsZQ%3D%3D?line=4'>5</a>\u001b[0m     t\u001b[39m=\u001b[39mnp\u001b[39m.\u001b[39mmean(resample(i),axis\u001b[39m=\u001b[39m\u001b[39m1\u001b[39m)\n\u001b[1;32m      <a href='vscode-notebook-cell:/home/mt/files/Zalo/ntb.ipynb#W3sZmlsZQ%3D%3D?line=5'>6</a>\u001b[0m     \u001b[39myield\u001b[39;00m (librosa\u001b[39m.\u001b[39mfeature\u001b[39m.\u001b[39mmelspectrogram(y\u001b[39m=\u001b[39mnp\u001b[39m.\u001b[39mpad(t,(\u001b[39m0\u001b[39m,\u001b[39m480000\u001b[39m\u001b[39m-\u001b[39m\u001b[39mlen\u001b[39m(t))),sr\u001b[39m=\u001b[39m\u001b[39m16000\u001b[39m),js_to_np(label))\n",
      "\u001b[1;32m/home/mt/files/Zalo/ntb.ipynb Cell 4\u001b[0m in \u001b[0;36mresample\u001b[0;34m(path, new_rate)\u001b[0m\n\u001b[1;32m      <a href='vscode-notebook-cell:/home/mt/files/Zalo/ntb.ipynb#W3sZmlsZQ%3D%3D?line=1'>2</a>\u001b[0m sampling_rate, data \u001b[39m=\u001b[39m wavfile\u001b[39m.\u001b[39mread(path)\n\u001b[1;32m      <a href='vscode-notebook-cell:/home/mt/files/Zalo/ntb.ipynb#W3sZmlsZQ%3D%3D?line=2'>3</a>\u001b[0m samples \u001b[39m=\u001b[39m \u001b[39mround\u001b[39m(\u001b[39mlen\u001b[39m(data) \u001b[39m*\u001b[39m \u001b[39mfloat\u001b[39m(new_rate) \u001b[39m/\u001b[39m sampling_rate)\n\u001b[0;32m----> <a href='vscode-notebook-cell:/home/mt/files/Zalo/ntb.ipynb#W3sZmlsZQ%3D%3D?line=3'>4</a>\u001b[0m new_data \u001b[39m=\u001b[39m sps\u001b[39m.\u001b[39;49mresample(data, samples)\n\u001b[1;32m      <a href='vscode-notebook-cell:/home/mt/files/Zalo/ntb.ipynb#W3sZmlsZQ%3D%3D?line=4'>5</a>\u001b[0m \u001b[39mreturn\u001b[39;00m new_data\n",
      "File \u001b[0;32m~/miniconda3/envs/tf/lib/python3.9/site-packages/scipy/signal/_signaltools.py:3049\u001b[0m, in \u001b[0;36mresample\u001b[0;34m(x, num, t, axis, window, domain)\u001b[0m\n\u001b[1;32m   3046\u001b[0m \u001b[39mif\u001b[39;00m domain \u001b[39m==\u001b[39m \u001b[39m'\u001b[39m\u001b[39mtime\u001b[39m\u001b[39m'\u001b[39m:\n\u001b[1;32m   3047\u001b[0m     \u001b[39m# Forward transform\u001b[39;00m\n\u001b[1;32m   3048\u001b[0m     \u001b[39mif\u001b[39;00m real_input:\n\u001b[0;32m-> 3049\u001b[0m         X \u001b[39m=\u001b[39m sp_fft\u001b[39m.\u001b[39;49mrfft(x, axis\u001b[39m=\u001b[39;49maxis)\n\u001b[1;32m   3050\u001b[0m     \u001b[39melse\u001b[39;00m:  \u001b[39m# Full complex FFT\u001b[39;00m\n\u001b[1;32m   3051\u001b[0m         X \u001b[39m=\u001b[39m sp_fft\u001b[39m.\u001b[39mfft(x, axis\u001b[39m=\u001b[39maxis)\n",
      "File \u001b[0;32m~/miniconda3/envs/tf/lib/python3.9/site-packages/scipy/fft/_backend.py:25\u001b[0m, in \u001b[0;36m_ScipyBackend.__ua_function__\u001b[0;34m(method, args, kwargs)\u001b[0m\n\u001b[1;32m     23\u001b[0m \u001b[39mif\u001b[39;00m fn \u001b[39mis\u001b[39;00m \u001b[39mNone\u001b[39;00m:\n\u001b[1;32m     24\u001b[0m     \u001b[39mreturn\u001b[39;00m \u001b[39mNotImplemented\u001b[39m\n\u001b[0;32m---> 25\u001b[0m \u001b[39mreturn\u001b[39;00m fn(\u001b[39m*\u001b[39;49margs, \u001b[39m*\u001b[39;49m\u001b[39m*\u001b[39;49mkwargs)\n",
      "File \u001b[0;32m~/miniconda3/envs/tf/lib/python3.9/site-packages/scipy/fft/_pocketfft/basic.py:62\u001b[0m, in \u001b[0;36mr2c\u001b[0;34m(forward, x, n, axis, norm, overwrite_x, workers, plan)\u001b[0m\n\u001b[1;32m     58\u001b[0m     \u001b[39mraise\u001b[39;00m \u001b[39mValueError\u001b[39;00m(\u001b[39m\"\u001b[39m\u001b[39minvalid number of data points (\u001b[39m\u001b[39m{0}\u001b[39;00m\u001b[39m) specified\u001b[39m\u001b[39m\"\u001b[39m\n\u001b[1;32m     59\u001b[0m                      \u001b[39m.\u001b[39mformat(tmp\u001b[39m.\u001b[39mshape[axis]))\n\u001b[1;32m     61\u001b[0m \u001b[39m# Note: overwrite_x is not utilised\u001b[39;00m\n\u001b[0;32m---> 62\u001b[0m \u001b[39mreturn\u001b[39;00m pfft\u001b[39m.\u001b[39;49mr2c(tmp, (axis,), forward, norm, \u001b[39mNone\u001b[39;49;00m, workers)\n",
      "\u001b[0;31mKeyboardInterrupt\u001b[0m: "
     ]
    }
   ],
   "source": [
    "def inp():\n",
    "    ds=[\"data/train/songs/\"+f for f in os.listdir(\"data/train/songs/\") if os.path.isfile(os.path.join(\"data/train/songs/\", f))]\n",
    "    for i in ds:\n",
    "        label=i.replace(\"songs\",\"labels\").replace(\"wav\",\"json\")\n",
    "        t=np.mean(resample(i),axis=1)\n",
    "        yield (librosa.feature.melspectrogram(y=np.pad(t,(0,480000-len(t))),sr=16000),js_to_np(label))\n",
    "x=[]\n",
    "y=[]\n",
    "for i in inp():\n",
    "    x.append(i[0])\n",
    "    y.append(i[1])\n",
    "x=np.array(x)\n",
    "y=np.array(y)\n",
    "with open('test.npy', 'wb') as f:\n",
    "    np.save(f, x)\n",
    "    np.save(f, y)"
   ]
  },
  {
   "cell_type": "code",
   "execution_count": 16,
   "metadata": {},
   "outputs": [],
   "source": [
    "with open('test.npy', 'rb') as f:\n",
    "    x = np.load(f)\n",
    "    y = np.load(f)"
   ]
  },
  {
   "cell_type": "code",
   "execution_count": 19,
   "metadata": {},
   "outputs": [
    {
     "name": "stdout",
     "output_type": "stream",
     "text": [
      "Epoch 1/50\n",
      "106/106 [==============================] - 13s 89ms/step - loss: 49712384.0000 - mae: 5108.3623\n",
      "Epoch 2/50\n",
      "106/106 [==============================] - 9s 88ms/step - loss: 36230064.0000 - mae: 4445.8125\n",
      "Epoch 3/50\n",
      "106/106 [==============================] - 9s 89ms/step - loss: 36047228.0000 - mae: 4450.9966\n",
      "Epoch 4/50\n",
      "106/106 [==============================] - 9s 88ms/step - loss: 34306044.0000 - mae: 4324.4595\n",
      "Epoch 5/50\n",
      "106/106 [==============================] - 9s 89ms/step - loss: 32831882.0000 - mae: 4157.0254\n",
      "Epoch 6/50\n",
      "106/106 [==============================] - 10s 90ms/step - loss: 31461526.0000 - mae: 4048.9214\n",
      "Epoch 7/50\n",
      "106/106 [==============================] - 9s 88ms/step - loss: 29311380.0000 - mae: 3824.1697\n",
      "Epoch 8/50\n",
      "106/106 [==============================] - 9s 89ms/step - loss: 28682208.0000 - mae: 3730.7014\n",
      "Epoch 9/50\n",
      "106/106 [==============================] - 9s 89ms/step - loss: 28170826.0000 - mae: 3621.8887\n",
      "Epoch 10/50\n",
      "106/106 [==============================] - 10s 90ms/step - loss: 27444052.0000 - mae: 3557.8035\n",
      "Epoch 11/50\n",
      "106/106 [==============================] - 9s 89ms/step - loss: 26460562.0000 - mae: 3458.4224\n",
      "Epoch 12/50\n",
      "106/106 [==============================] - 9s 89ms/step - loss: 25269510.0000 - mae: 3373.7646\n",
      "Epoch 13/50\n",
      "106/106 [==============================] - 9s 89ms/step - loss: 24836312.0000 - mae: 3293.7771\n",
      "Epoch 14/50\n",
      "106/106 [==============================] - 9s 90ms/step - loss: 24197610.0000 - mae: 3231.2666\n",
      "Epoch 15/50\n",
      "106/106 [==============================] - 9s 88ms/step - loss: 22633484.0000 - mae: 3051.4058\n",
      "Epoch 16/50\n",
      "106/106 [==============================] - 9s 89ms/step - loss: 22141594.0000 - mae: 2972.9846\n",
      "Epoch 17/50\n",
      "106/106 [==============================] - 9s 89ms/step - loss: 21004862.0000 - mae: 2855.4846\n",
      "Epoch 18/50\n",
      "106/106 [==============================] - 9s 88ms/step - loss: 20317876.0000 - mae: 2753.9348\n",
      "Epoch 19/50\n",
      "106/106 [==============================] - 10s 90ms/step - loss: 19236696.0000 - mae: 2669.7141\n",
      "Epoch 20/50\n",
      "106/106 [==============================] - 9s 88ms/step - loss: 19029510.0000 - mae: 2665.4685\n",
      "Epoch 21/50\n",
      "106/106 [==============================] - 9s 87ms/step - loss: 18874012.0000 - mae: 2629.0845\n",
      "Epoch 22/50\n",
      "106/106 [==============================] - 9s 88ms/step - loss: 17978992.0000 - mae: 2545.9465\n",
      "Epoch 23/50\n",
      "106/106 [==============================] - 9s 89ms/step - loss: 18239028.0000 - mae: 2542.1777\n",
      "Epoch 24/50\n",
      "106/106 [==============================] - 9s 89ms/step - loss: 17922092.0000 - mae: 2543.4243\n",
      "Epoch 25/50\n",
      "106/106 [==============================] - 9s 88ms/step - loss: 16821430.0000 - mae: 2433.5691\n",
      "Epoch 26/50\n",
      "106/106 [==============================] - 9s 88ms/step - loss: 16609253.0000 - mae: 2369.5308\n",
      "Epoch 27/50\n",
      "106/106 [==============================] - 9s 89ms/step - loss: 16074666.0000 - mae: 2336.4980\n",
      "Epoch 28/50\n",
      "106/106 [==============================] - 9s 86ms/step - loss: 16141703.0000 - mae: 2322.0911\n",
      "Epoch 29/50\n",
      "106/106 [==============================] - 9s 86ms/step - loss: 16036330.0000 - mae: 2355.8403\n",
      "Epoch 30/50\n",
      "106/106 [==============================] - 9s 88ms/step - loss: 15755352.0000 - mae: 2336.4189\n",
      "Epoch 31/50\n",
      "106/106 [==============================] - 9s 88ms/step - loss: 15976267.0000 - mae: 2328.6621\n",
      "Epoch 32/50\n",
      "106/106 [==============================] - 9s 88ms/step - loss: 15718727.0000 - mae: 2307.8391\n",
      "Epoch 33/50\n",
      "106/106 [==============================] - 9s 88ms/step - loss: 14512102.0000 - mae: 2193.5081\n",
      "Epoch 34/50\n",
      "106/106 [==============================] - 9s 89ms/step - loss: 14462480.0000 - mae: 2215.4116\n",
      "Epoch 35/50\n",
      "106/106 [==============================] - 9s 88ms/step - loss: 14387905.0000 - mae: 2184.4177\n",
      "Epoch 36/50\n",
      "106/106 [==============================] - 9s 89ms/step - loss: 14405524.0000 - mae: 2171.9272\n",
      "Epoch 37/50\n",
      "106/106 [==============================] - 9s 88ms/step - loss: 14217601.0000 - mae: 2131.5864\n",
      "Epoch 38/50\n",
      "106/106 [==============================] - 9s 89ms/step - loss: 14406183.0000 - mae: 2167.6006\n",
      "Epoch 39/50\n",
      "106/106 [==============================] - 9s 88ms/step - loss: 14379501.0000 - mae: 2165.9622\n",
      "Epoch 40/50\n",
      "106/106 [==============================] - 9s 89ms/step - loss: 13980260.0000 - mae: 2139.0911\n",
      "Epoch 41/50\n",
      "106/106 [==============================] - 9s 89ms/step - loss: 13386486.0000 - mae: 2104.8572\n",
      "Epoch 42/50\n",
      "106/106 [==============================] - 9s 88ms/step - loss: 13537145.0000 - mae: 2099.9485\n",
      "Epoch 43/50\n",
      "106/106 [==============================] - 9s 88ms/step - loss: 13895755.0000 - mae: 2126.0959\n",
      "Epoch 44/50\n",
      "106/106 [==============================] - 9s 89ms/step - loss: 13430283.0000 - mae: 2081.9202\n",
      "Epoch 45/50\n",
      "106/106 [==============================] - 10s 91ms/step - loss: 13086133.0000 - mae: 2052.6685\n",
      "Epoch 46/50\n",
      "106/106 [==============================] - 10s 90ms/step - loss: 12718028.0000 - mae: 2030.1918\n",
      "Epoch 47/50\n",
      "106/106 [==============================] - 9s 88ms/step - loss: 12597845.0000 - mae: 2022.7899\n",
      "Epoch 48/50\n",
      "106/106 [==============================] - 9s 87ms/step - loss: 12853844.0000 - mae: 2067.5869\n",
      "Epoch 49/50\n",
      "106/106 [==============================] - 9s 88ms/step - loss: 12795501.0000 - mae: 2030.1842\n",
      "Epoch 50/50\n",
      "106/106 [==============================] - 9s 88ms/step - loss: 13083778.0000 - mae: 2029.0286\n"
     ]
    },
    {
     "data": {
      "text/plain": [
       "<keras.callbacks.History at 0x7fa70eb65730>"
      ]
     },
     "execution_count": 19,
     "metadata": {},
     "output_type": "execute_result"
    }
   ],
   "source": [
    "model = tf.keras.Sequential([\n",
    "    tf.keras.layers.BatchNormalization(),\n",
    "    tf.keras.layers.Bidirectional(tf.keras.layers.GRU(1028)),\n",
    "    tf.keras.layers.Flatten(),\n",
    "    tf.keras.layers.Dense(1028,activation = 'relu'),\n",
    "    tf.keras.layers.Dense(512,activation = 'relu'),\n",
    "    tf.keras.layers.Dense(256,activation = 'relu'),\n",
    "    tf.keras.layers.Dense(128,activation = 'relu'),\n",
    "    tf.keras.layers.Dense(50,activation = 'relu')\n",
    "])\n",
    "model.compile(loss=\"mse\",optimizer='adam',metrics=[\"mae\"])\n",
    "model.fit(x=x,y=y, batch_size=10, epochs=50)"
   ]
  }
 ],
 "metadata": {
  "kernelspec": {
   "display_name": "Python 3.9.13 ('tf')",
   "language": "python",
   "name": "python3"
  },
  "language_info": {
   "codemirror_mode": {
    "name": "ipython",
    "version": 3
   },
   "file_extension": ".py",
   "mimetype": "text/x-python",
   "name": "python",
   "nbconvert_exporter": "python",
   "pygments_lexer": "ipython3",
   "version": "3.9.13"
  },
  "orig_nbformat": 4,
  "vscode": {
   "interpreter": {
    "hash": "26dae6e2463eaa5657e3fcec8b75b4b449e613ce58da87f135849ab74b192c50"
   }
  }
 },
 "nbformat": 4,
 "nbformat_minor": 2
}
